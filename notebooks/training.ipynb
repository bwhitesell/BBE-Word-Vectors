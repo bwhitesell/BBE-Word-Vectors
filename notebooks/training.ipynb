{
 "cells": [
  {
   "cell_type": "code",
   "execution_count": 279,
   "metadata": {},
   "outputs": [],
   "source": [
    "import json\n",
    "import torch\n",
    "from torch.autograd import Variable\n",
    "from torch.nn.functional import log_softmax\n",
    "from torch.nn import BCEWithLogitsLoss\n",
    "from torch.optim import Adam\n",
    "import numpy as np\n",
    "\n",
    "\n",
    "if torch.cuda.is_available():  \n",
    "    dev = \"cuda:0\" \n",
    "else:  \n",
    "    dev = \"cpu\"\n",
    "    \n",
    "device = torch.device('cpu')  \n",
    "\n",
    "\n",
    "def read_file(file: str):\n",
    "    with open(file, 'r') as f:\n",
    "        file = json.loads(f.read())\n",
    "    return file\n",
    "\n",
    "\n",
    "def apply_importance_weighting(vocab_freq):\n",
    "    cume = sum([i[1]**(3/4) for _, i in vocab_freq.items()])\n",
    "    \n",
    "    for key, vals in vocab_freq.items():\n",
    "        vals = vals[0], vals[1]**(3/4) / cume\n",
    "        vocab_freq[key] = vals\n",
    "    return vocab_freq"
   ]
  },
  {
   "cell_type": "code",
   "execution_count": 280,
   "metadata": {},
   "outputs": [],
   "source": [
    "vocab = read_file('../data/vocab.json')\n",
    "vocab_freq = apply_importance_weighting(read_file('../data/vocab_freq.json'))\n",
    "train = read_file('../data/train.json')\n",
    "val = read_file('../data/val.json')\n",
    "inv_vocab = {value: key for key, value in vocab.items()}\n",
    "VOCAB_SIZE = len(vocab)\n",
    "\n",
    "\n",
    "def generate_sample_words(size):\n",
    "    words = np.random.choice(range(0, len(vocab)), size=size, p=[i[1] for _, i in vocab_freq.items()])\n",
    "    return torch.from_numpy(words).to(device)"
   ]
  },
  {
   "cell_type": "code",
   "execution_count": 281,
   "metadata": {},
   "outputs": [],
   "source": [
    "class SamplesDataset(torch.utils.data.Dataset):\n",
    "    \n",
    "    def __init__(self, ds):\n",
    "        self.ds = ds\n",
    "    \n",
    "    def __len__(self):\n",
    "        return len(self.ds)\n",
    "    \n",
    "    def __getitem__(self, idx):\n",
    "        sample = self.ds[idx]\n",
    "        target = vocab[sample['word']]       \n",
    "        context = [vocab[word] for word in sample['context']]\n",
    "\n",
    "        target = torch.tensor([target], dtype=torch.long, device=device)\n",
    "        context = torch.tensor(context, dtype=torch.long, device=device)\n",
    "        \n",
    "        return target, context\n",
    "\n",
    "        \n",
    "def one_hot_id_tens(word_idx):\n",
    "    x = torch.zeros(len(vocab), dtype=torch.float, device=device)\n",
    "    x[word_idx] = 1.0\n",
    "    return x"
   ]
  },
  {
   "cell_type": "code",
   "execution_count": 393,
   "metadata": {},
   "outputs": [
    {
     "name": "stdout",
     "output_type": "stream",
     "text": [
      "EPOCH: 0\n",
      "EPOCH: 16200, Loss: 0.6551833152770996\n",
      "EPOCH: 26200, Loss: 0.5983014702796936\n",
      "Iter: 676200, Loss: 0.5889051556587219\r"
     ]
    }
   ],
   "source": [
    "EMB_SIZE: int = 25\n",
    "train_ds = SamplesDataset(train)\n",
    "    \n",
    "target_embs = Variable(torch.randn(VOCAB_SIZE, EMB_SIZE, dtype=torch.float), requires_grad=True).to(device)\n",
    "context_embs = Variable(torch.randn(EMB_SIZE, VOCAB_SIZE, dtype=torch.float), requires_grad=True).to(device)\n",
    "loss_fn = BCEWithLogitsLoss()\n",
    "\n",
    "learning_rate = 1\n",
    "\n",
    "\n",
    "for epoch in range(0, 3):\n",
    "    print(f'EPOCH: {epoch}')\n",
    "    loss = 0\n",
    "    _cum_loss = 0\n",
    "    for t, data in enumerate(train_ds):\n",
    "        target, context = data\n",
    "\n",
    "        target_oh = one_hot_id_tens(target)\n",
    "        ctx_oh = one_hot_id_tens(context)\n",
    "\n",
    "        #define network forward in the training loop\n",
    "        l0_true = torch.matmul(target_oh, target_embs)  # embedding lookup\n",
    "        l1_true = torch.matmul(l0_true, context_embs)  # pass through first layer\n",
    "\n",
    "        neg_sample_ctx = generate_sample_words((5)).to(device)\n",
    "\n",
    "        outputs = l1_true[torch.cat([context, neg_sample_ctx])]\n",
    "        targets = torch.cat([torch.ones(4, device=device), torch.zeros(5, device=device)])\n",
    "\n",
    "        loss = loss_fn(outputs, targets)\n",
    "        _cum_loss += loss\n",
    "\n",
    "        loss.backward()\n",
    "\n",
    "        target_embs.data -= learning_rate * target_embs.grad.data\n",
    "        context_embs.data -= learning_rate * context_embs.grad.data\n",
    "\n",
    "        target_embs.grad.data.zero_()\n",
    "        context_embs.grad.data.zero_()\n",
    "\n",
    "        if t % 100 == 0:\n",
    "            mean_loss = _cum_loss / t\n",
    "            print(f'Iter: {t}, Loss: {mean_loss}', end='\\r')\n",
    "\n",
    "\n",
    "    \n",
    "    \n",
    "    \n"
   ]
  },
  {
   "cell_type": "code",
   "execution_count": null,
   "metadata": {},
   "outputs": [],
   "source": []
  },
  {
   "cell_type": "code",
   "execution_count": 394,
   "metadata": {},
   "outputs": [],
   "source": [
    "deet = target_embs.data"
   ]
  },
  {
   "cell_type": "code",
   "execution_count": 414,
   "metadata": {},
   "outputs": [],
   "source": [
    "from torch.nn import CosineSimilarity\n",
    "cos = CosineSimilarity(dim=-1, eps=1e-6)\n",
    "w_id= 4\n",
    "\n",
    "with torch.no_grad():\n",
    "    sims = cos(target_embs[w_id], target_embs)\n",
    "    ms = torch.topk(sims, 10)\n"
   ]
  },
  {
   "cell_type": "code",
   "execution_count": 415,
   "metadata": {},
   "outputs": [
    {
     "data": {
      "text/plain": [
       "torch.return_types.topk(\n",
       "values=tensor([1.0000, 0.7292, 0.7183, 0.7156, 0.7007, 0.6981, 0.6926, 0.6809, 0.6765,\n",
       "        0.6724]),\n",
       "indices=tensor([   4,  828, 5845, 1295, 2726, 1506, 1296, 2038,  169,  551]))"
      ]
     },
     "execution_count": 415,
     "metadata": {},
     "output_type": "execute_result"
    }
   ],
   "source": [
    "ms"
   ]
  },
  {
   "cell_type": "code",
   "execution_count": 423,
   "metadata": {},
   "outputs": [
    {
     "data": {
      "text/plain": [
       "'come!'"
      ]
     },
     "execution_count": 423,
     "metadata": {},
     "output_type": "execute_result"
    }
   ],
   "source": [
    "inv_vocab[2726]"
   ]
  },
  {
   "cell_type": "code",
   "execution_count": 419,
   "metadata": {},
   "outputs": [
    {
     "data": {
      "text/plain": [
       "4"
      ]
     },
     "execution_count": 419,
     "metadata": {},
     "output_type": "execute_result"
    }
   ],
   "source": [
    "vocab['god']"
   ]
  },
  {
   "cell_type": "code",
   "execution_count": 178,
   "metadata": {},
   "outputs": [
    {
     "data": {
      "text/plain": [
       "tensor(0.7933, grad_fn=<BinaryCrossEntropyWithLogitsBackward>)"
      ]
     },
     "execution_count": 178,
     "metadata": {},
     "output_type": "execute_result"
    }
   ],
   "source": [
    " loss_fn(outputs, targets)"
   ]
  },
  {
   "cell_type": "code",
   "execution_count": null,
   "metadata": {},
   "outputs": [],
   "source": []
  }
 ],
 "metadata": {
  "kernelspec": {
   "display_name": "Python 3",
   "language": "python",
   "name": "python3"
  },
  "language_info": {
   "codemirror_mode": {
    "name": "ipython",
    "version": 3
   },
   "file_extension": ".py",
   "mimetype": "text/x-python",
   "name": "python",
   "nbconvert_exporter": "python",
   "pygments_lexer": "ipython3",
   "version": "3.8.3"
  }
 },
 "nbformat": 4,
 "nbformat_minor": 4
}
