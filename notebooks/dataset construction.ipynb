{
 "cells": [
  {
   "cell_type": "code",
   "execution_count": 1,
   "metadata": {},
   "outputs": [],
   "source": [
    "import csv\n",
    "import json\n",
    "import random\n",
    "import re\n",
    "from typing import List"
   ]
  },
  {
   "cell_type": "code",
   "execution_count": 3,
   "metadata": {},
   "outputs": [],
   "source": [
    "def clean_sentence(sentence: str):\n",
    "    IGNORE_CHARS = [',', '.', ';', ':', \"'s\", '?']\n",
    "    \n",
    "    sentence = sentence.lower()\n",
    "    # clean sentence\n",
    "    for char in IGNORE_CHARS:\n",
    "        sentence = sentence.replace(char, '')\n",
    "\n",
    "    return sentence\n",
    "\n",
    "\n",
    "def tokenize_sentence(sentence: str):\n",
    "    WORD_DELIMITERS = [' ', '  ', '-', '\\n']\n",
    "        \n",
    "    return re.split('|'.join(WORD_DELIMITERS), sentence)\n",
    "\n",
    "\n",
    "def create_vocab(corpus: List[str]):\n",
    "    vocab_dict: Dict[str, int] = {'_blank': 0}\n",
    "    _vidx = 1\n",
    "\n",
    "    for sentence in corpus:\n",
    "        for word in sentence:\n",
    "            if word not in vocab_dict:\n",
    "                vocab_dict[word] = _vidx\n",
    "                _vidx += 1\n",
    "    return vocab_dict\n",
    "\n",
    "\n",
    "def calc_vocab_freq_dist(corpus):\n",
    "    vocab_freqs = {word: 0 for word in create_vocab(corpus)}\n",
    "    word_counter = 0\n",
    "    \n",
    "    for sentence in corpus:\n",
    "        for word in sentence:\n",
    "            word_counter += 1\n",
    "            vocab_freqs[word] += 1\n",
    "    \n",
    "    return {word: (freq, freq / word_counter) for word, freq in vocab_freqs.items()}    \n",
    "    \n",
    "    \n",
    "def build_samples_from_tokenized_sentence(sentence: List[str]):\n",
    "    WINDOW_LENGTH: int = 2\n",
    "    FILLER_IDX = '_blank'\n",
    "    \n",
    "    samples: List[Dict[str, str]] = list()\n",
    "    n_words = len(sentence)\n",
    "    \n",
    "    for t, word in enumerate(sentence):\n",
    "        sample = dict()\n",
    "        sample['word'] = word\n",
    "        sample['context'] = list()\n",
    "\n",
    "        for dt in list(range(-WINDOW_LENGTH, WINDOW_LENGTH + 1)):\n",
    "            _t = t + dt\n",
    "            if _t != t:\n",
    "                if 0 < _t < n_words - 1:\n",
    "                    sample['context'].append(sentence[t + dt])\n",
    "                else:\n",
    "                    sample['context'].append(FILLER_IDX)\n",
    "\n",
    "        samples.append(sample)\n",
    "\n",
    "    return samples\n",
    "            \n",
    "            "
   ]
  },
  {
   "cell_type": "code",
   "execution_count": 4,
   "metadata": {},
   "outputs": [],
   "source": [
    "corpus = list()\n",
    "\n",
    "\n",
    "with open('../data/t_bbe.csv') as f:\n",
    "    csv_reader = csv.DictReader(f)\n",
    "    \n",
    "    for line in csv_reader:\n",
    "        corpus.append(\n",
    "            tokenize_sentence(\n",
    "                clean_sentence(line['t'])\n",
    "            )\n",
    "        )\n"
   ]
  },
  {
   "cell_type": "code",
   "execution_count": 5,
   "metadata": {},
   "outputs": [],
   "source": [
    "vocab = create_vocab(corpus)"
   ]
  },
  {
   "cell_type": "code",
   "execution_count": 6,
   "metadata": {},
   "outputs": [],
   "source": [
    "vocab_dist = calc_vocab_freq_dist(corpus)"
   ]
  },
  {
   "cell_type": "code",
   "execution_count": 7,
   "metadata": {},
   "outputs": [],
   "source": [
    "samples = []\n",
    "\n",
    "for sentence in corpus:\n",
    "    samples += build_samples_from_tokenized_sentence(sentence)\n",
    "    "
   ]
  },
  {
   "cell_type": "code",
   "execution_count": 8,
   "metadata": {},
   "outputs": [],
   "source": [
    "random.shuffle(samples)\n",
    "\n",
    "train = samples[:676290]\n",
    "val = samples[676290:]"
   ]
  },
  {
   "cell_type": "code",
   "execution_count": 9,
   "metadata": {},
   "outputs": [],
   "source": [
    "with open('../data/train.json', 'w') as f:\n",
    "    f.write(json.dumps(train))\n",
    "    \n",
    "with open('../data/val.json', 'w') as f:\n",
    "    f.write(json.dumps(val))\n",
    "    \n",
    "with open('../data/vocab.json', 'w') as f:\n",
    "    f.write(json.dumps(vocab))\n",
    "    \n",
    "with open('../data/vocab_freq.json', 'w') as f:\n",
    "    f.write(json.dumps(vocab_dist))"
   ]
  },
  {
   "cell_type": "code",
   "execution_count": null,
   "metadata": {},
   "outputs": [],
   "source": []
  }
 ],
 "metadata": {
  "kernelspec": {
   "display_name": "Python 3",
   "language": "python",
   "name": "python3"
  },
  "language_info": {
   "codemirror_mode": {
    "name": "ipython",
    "version": 3
   },
   "file_extension": ".py",
   "mimetype": "text/x-python",
   "name": "python",
   "nbconvert_exporter": "python",
   "pygments_lexer": "ipython3",
   "version": "3.8.3"
  }
 },
 "nbformat": 4,
 "nbformat_minor": 4
}
